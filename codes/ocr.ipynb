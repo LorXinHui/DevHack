{
 "cells": [
  {
   "cell_type": "markdown",
   "metadata": {},
   "source": [
    "## Fitz"
   ]
  },
  {
   "cell_type": "code",
   "execution_count": 8,
   "metadata": {},
   "outputs": [],
   "source": [
    "import numpy as np\n",
    "import pandas as pd\n",
    "import fitz\n",
    "import re"
   ]
  },
  {
   "cell_type": "code",
   "execution_count": 9,
   "metadata": {},
   "outputs": [],
   "source": [
    "def get_resume_text(resume_path):\n",
    "    pdf_document = fitz.open(resume_path)\n",
    "\n",
    "    #print(f\"Number of pages in the PDF: {pdf_document.page_count}\")\n",
    "    res = \"\"\n",
    "\n",
    "    # Iterate through all pages\n",
    "    for page_number in range(pdf_document.page_count):\n",
    "        # Get the page\n",
    "        page = pdf_document[page_number]\n",
    "\n",
    "        # Get the text content of the page\n",
    "        text = page.get_text()\n",
    "        res += text\n",
    "\n",
    "        # Print or process the extracted text\n",
    "        #print(f'{text}')\n",
    "\n",
    "    # Close the PDF document\n",
    "    pdf_document.close()\n",
    "    return res"
   ]
  },
  {
   "cell_type": "code",
   "execution_count": null,
   "metadata": {},
   "outputs": [],
   "source": [
    "def extract_title_and_skills(resume_text):\n",
    "    # Extract title\n",
    "    title_pattern = re.compile(r\"(?i)(.*?)(?=\\bSummary\\b)\", re.DOTALL)\n",
    "    title_match = title_pattern.search(resume_text)\n",
    "    title = title_match.group(1).strip() if title_match else None\n",
    "\n",
    "    # Extract skills\n",
    "    skills_pattern = re.compile(r\"(?i)\\bSkills\\b.*?\\n(.*?)\\n\", re.DOTALL)\n",
    "    skills_match = skills_pattern.search(resume_text)\n",
    "    skills = skills_match.group(1).strip() if skills_match else None\n",
    "\n",
    "    return title, skills\n",
    "\n",
    "def get_resume_title_and_skills(resume_path):\n",
    "    resume_text = get_resume_text(resume_path)\n",
    "    title, skills = extract_title_and_skills(resume_text)\n",
    "    return title, skills"
   ]
  },
  {
   "cell_type": "code",
   "execution_count": null,
   "metadata": {},
   "outputs": [],
   "source": [
    "pdf_path = 'C:/Clubs and Society/DevHack/DevHack/dataset/data/data/CONSTRUCTION/10041713.pdf'\n",
    "title, skills = get_resume_title_and_skills(pdf_path)\n",
    "print(f\"Title: {title}\")\n",
    "print(f\"Skills: {skills}\")"
   ]
  },
  {
   "cell_type": "code",
   "execution_count": 11,
   "metadata": {},
   "outputs": [
    {
     "data": {
      "text/plain": [
       "\"SR. ESTIMATOR-BAS CONSTRUCTION SALES\\nSummary\\n9+ years of professional working experience in energy solution consulting and performance contracting, HVAC estimating & designing in buildings\\n& industrial sector. Experience of 3 years in project development, presenting and managing the implementation of innovative energy business\\nsolutions. Working knowledge in designing & preparing energy solutions for large complex projects. Total projects worked for fiscal year 2014\\nexceeds $30 million. Excellent working relationships within the different business units. Working knowledge of Variable Frequency drives, PLC\\nsystems and other automations used in industry. Actively Involved in Networking Chapter in Boston area like National Association of Women In\\nConstruction, Mass Building Congress, American Society for Precision Engineering Obtain a challenging position that will allow me to utilize my\\neducational attainment and professional experience in Energy Engineering, Project Engineering, Building Energy Systems, Energy Conservation,\\nRenewable Energy and Energy Management of residential, commercial, healthcare, data center and industrial facilities.\\nAccomplishments\\nAwarded as most interactive person across all business units in India by Schneider\\nHoneywell's BRAVO Award for the successful commissioning of the Alarm Management Suite at IPCL, Baroda or the first time in India\\nEnergy Management Professional Certified by Schneider University\\nFramed out the processes and templates for new energy business unit in Schneider India\\nActive Volunteer in CSR activities in Schneider for social cause\\nInitiated selling of the energy conservation solutions to clients showing savings and ROI\\nIndividually worked out and framed a clear- cut procedure for Installation & Commissioning of MS SQL based Alarm Management Suite\\nand defined the procedure for healthy communication of Alarm Management Suite with Honeywell Systems & various Third Party DCS /\\nPLC's\\nExperience\\nSr. Estimator-BAS Construction Sales \\nAugust 2015 to Current Company Name ï¼\\u200b City , State\\n- 01810, USA âž¢ Key responsible person for designing & estimating of HVAC proposals on Studio 360 related to capital construction and\\nrenovation projects ($40M estimation volume YtD) by supporting Sales team and validating the proposals with operations teams âž¢ Generate an\\naverage of $2M estimate per month for Building-Construction business âž¢ Responsible for negotiating with sub-contractors and vendors to\\nensure accurate scope and cost projections. âž¢ Qualify engineering drawings & specifications. âž¢ Working with the operations team to validate\\nproposed solutions and to develop Branch Estimate Library on Studio 360 âž¢ Produce accurate & through takeoffs, including pricing of work\\nProject Engineer \\nCompany Name ï¼\\u200b City , State 56&57, Hadapsar Industrial Estate, Pune- 411 013, India âž¢ Responsible for Project Planning, Collection of\\nUser requirements, System Design & Testing, Execution and System Maintenance. âž¢ Worked as Project engineering After Marketing Service\\nGroup for projects involving Dual redundant and single system of Honeywell's DCS & PLC based control system for various process industries.\\nâž¢ Responsible for design, Development and Testing of DCS, PLC, and SCADA programs for the Honeywell Systems. âž¢ Responsible for\\nInstallation, Configuring and Maintenance of Real time Servers and Networking under Windows.\\nSales Engineer \\nCompany Name , Phase II, Gurgaon -122002, Haryana, India âž¢ Worked on energy performance contracts and energy proposals worth more\\nthan 40 million dollars for various facilities including hospital, correctional facilities, office buildings, colleges, IT/ITES buildings, commercial\\nbuildings, retail sector and industrial facilities. âž¢ Prepared energy solutions for more than 50 projects and surveyed almost 40 projects for\\npreliminary & detailed energy assessment for identifying energy conservation measures (ECMS). âž¢ Prepared and helped the implementation\\nteam in execution of Performance Contracting projects of values almost 5 million dollar. âž¢ Key responsible person for identifying, designing &\\nimplementation of Energy Conservation Measures across 20 identified Schneider Offices in India. âž¢ Supported BD/Sales and energy auditors for\\nsolution designing and development of standard energy conservation solutions for building & industrial sector. âž¢ Main responsibilities includes\\nidentify the energy conservation measures, development of the detailed scope of work for each measures, walkthrough with vendors and\\nsubcontractor to price each measures, preparation of the estimated costing and contract documents, preparation of the sequence of operation for\\nthe retrofit equipment, review of all the submittals documents, provide technical assistance during the construction phase, commission of the system\\nand measurement and verification of each measures. Siemens Building Technologies Pvt. Ltd., 49, Eldams Road, Teynampet, Chennai- 600 018,\\nIndia âž¢ Worked on designing of systems, preparation of technical bids, quotations, offers of complete systems comprising of Building\\nManagement System, Fire Protection and Electronic Security âž¢ Pre-sales and front end sales activities including customer relationship building,\\nnegotiations. âž¢ Grabbed IBMS orders of around $2 million. âž¢ Worked extensively on designing of Building Management systems for HVAC\\nfor different buildings like hotels, commercial buildings, IT/ITES etc.\\nAssistant Manager-Energy Solutions \\nJuly 2010 to May 2013 Company Name ï¼\\u200b City , State\\nSchneider Electric India Pvt. Ltd, 9th Floor, DLF Building No.10, Tower C,\\nEducation\\nBachelor of Instrumentation Engineering : Instrumentation Engineering , 2006-12-31 Maharishi Markendeshwar Engineering College Bachelor of\\nInstrumentation Engineering, -Degree Received: December 31, 2006 Maharishi Markendeshwar Engineering College, Mullana India. May\\n09,2002-July 21, 2006.\\nAffiliations\\nActively Involved in Networking Chapter in Boston area like National Association of Women In Construction, Mass Building Congress, American\\nSociety for Precision Engineering\\nCertifications\\nEnergy Management Professional Certified by Schneider University.\\nSkills\\nSales, Proposals, Solutions, Commercial Buildings, Million, Sales And, Contracts, Ecms, Energy Conservation, Energy Solutions, Industrial\\nFacilities, Retail, Retail Marketing, Retrofit, Technical Assistance, Instrumentation, Long-term Disability, Ltd, Engineer, Hvac, Collection,\\nMaintenance, Marketing, Networking, Project Engineer, Project Planning, Real Time, Scada, Testing, Estimating, Estimation, Estimator,\\nOperations, Pricing, Sales Team, Takeoffs, Fire Protection, Front End, Quotations, Relationship Building, Sales Activities, Sales Engineer,\\nSecurity, Siemens, Award, Clients, Csr, Energy Management, Project Development, Roi, Selling Of, Sql\\n\""
      ]
     },
     "execution_count": 11,
     "metadata": {},
     "output_type": "execute_result"
    }
   ],
   "source": [
    "pdf_path = 'C:/Clubs and Society/DevHack/DevHack/dataset/data/data/CONSTRUCTION/10041713.pdf'\n",
    "get_resume_text(pdf_path)"
   ]
  },
  {
   "cell_type": "markdown",
   "metadata": {},
   "source": [
    "## Tesseract"
   ]
  },
  {
   "cell_type": "markdown",
   "metadata": {},
   "source": [
    "### Simple Text Extraction from Resume"
   ]
  },
  {
   "cell_type": "code",
   "execution_count": 3,
   "metadata": {},
   "outputs": [],
   "source": [
    "from pdf2image import convert_from_path\n",
    "import pytesseract\n",
    "from pytesseract import Output\n",
    "from PIL import Image\n",
    "import cv2\n",
    "\n",
    "pytesseract.pytesseract.tesseract_cmd = 'C:/Program Files (x86)/Tesseract-OCR/tesseract.exe'"
   ]
  },
  {
   "cell_type": "code",
   "execution_count": 6,
   "metadata": {},
   "outputs": [],
   "source": [
    "def get_text(resume_path):\n",
    "    res = \"\"\n",
    "    images = convert_from_path(resume_path, poppler_path = 'C:/Python311/Lib/poppler-23.11.0/Library/bin')\n",
    "\n",
    "    for i in range(len(images)):\n",
    "        text = pytesseract.image_to_string(images[i], lang='eng')\n",
    "        res += text\n",
    "    \n",
    "    return res"
   ]
  },
  {
   "cell_type": "code",
   "execution_count": 7,
   "metadata": {},
   "outputs": [
    {
     "data": {
      "text/plain": [
       "\"SR. ESTIMATOR-BAS CONSTRUCTION SALES\\n\\nSummary\\n\\n9+ years of professional working experience in energy solution consulting and performance contracting, HVAC estimating & designing in buildings\\n& industrial sector. Experience of 3 years in project development, presenting and managing the implementation of innovative energy business\\nsolutions. Working knowledge in designing & preparing energy solutions for large complex projects. Total projects worked for fiscal year 2014\\nexceeds $30 million. Excellent working relationships within the different business units. Working knowledge of Variable Frequency drives, PLC\\nsystems and other automations used in industry. Actively Involved in Networking Chapter in Boston area like National Association of Women In\\nConstruction, Mass Building Congress, American Society for Precision Engineering Obtain a challenging position that will allow me to utilize my\\neducational attainment and professional experience in Energy Engineering, Project Engineering, Building Energy Systems, Energy Conservation,\\nRenewable Energy and Energy Management of residential, commercial, healthcare, data center and industrial facilities.\\n\\nAccomplishments\\n\\nAwarded as most interactive person across all business units in India by Schneider\\n\\nHoneywell's BRAVO Award for the successful commissioning of the Alarm Management Suite at IPCL, Baroda or the first time in India\\nEnergy Management Professional Certified by Schneider University\\n\\nFramed out the processes and templates for new energy business unit in Schneider India\\n\\nActive Volunteer in CSR activities in Schneider for social cause\\n\\nInitiated selling of the energy conservation solutions to clients showing savings and ROI\\n\\nIndividually worked out and framed a clear- cut procedure for Installation & Commissioning of MS SQL based Alarm Management Suite\\nand defined the procedure for healthy communication of Alarm Management Suite with Honeywell Systems & various Third Party DCS /\\nPLC's\\n\\nExperience\\nSr. Estimator-BAS Construction Sales\\nAugust 2015 to Current Company Name i City , State\\n\\n- 01810, USA az Key responsible person for designing & estimating of HVAC proposals on Studio 360 related to capital construction and\\nrenovation projects ($40M estimation volume YtD) by supporting Sales team and validating the proposals with operations teams 42¢ Generate an\\naverage of $2M estimate per month for Building-Construction business 42¢ Responsible for negotiating with sub-contractors and vendors to\\nensure accurate scope and cost projections. 42¢ Qualify engineering drawings & specifications. 42¢ Working with the operations team to validate\\nproposed solutions and to develop Branch Estimate Library on Studio 360 42¢ Produce accurate & through takeofls, including pricing of work\\n\\nProject Engineer\\n\\nCompany Name i'/4 City , State 56&57, Hadapsar Industrial Estate, Pune- 411 013, India 42¢ Responsible for Project Planning, Collection of\\nUser requirements, System Design & Testing, Execution and System Maintenance. 42¢ Worked as Project engineering After Marketing Service\\nGroup for projects involving Dual redundant and single system of Honeywell's DCS & PLC based control system for various process industries.\\naz¢ Responsible for design, Development and Testing of DCS, PLC, and SCADA programs for the Honeywell Systems. 42¢ Responsible for\\nInstallation, Configuring and Maintenance of Real time Servers and Networking under Windows.\\n\\nSales Engineer\\n\\nCompany Name , Phase II, Gurgaon - 122002, Haryana, India 4%¢ Worked on energy performance contracts and energy proposals worth more\\nthan 40 million dollars for various facilities including hospital, correctional facilities, office buildings, colleges, IT/ITES buildings, commercial\\nbuildings, retail sector and industrial facilities. 42¢ Prepared energy solutions for more than 50 projects and surveyed almost 40 projects for\\npreliminary & detailed energy assessment for identifying energy conservation measures (ECMS). 42¢ Prepared and helped the implementation\\nteam in execution of Performance Contracting projects of values almost 5 million dollar. 47¢ Key responsible person for identifying, designing &\\nimplementation of Energy Conservation Measures across 20 identified Schneider Offices in India. 4%¢ Supported BD/Sales and energy auditors for\\nsolution designing and development of standard energy conservation solutions for building & industrial sector. 42 Main responsibilities includes\\nidentify the energy conservation measures, development of the detailed scope of work for each measures, walkthrough with vendors and\\nsubcontractor to price each measures, preparation of the estimated costing and contract documents, preparation of the sequence of operation for\\nthe retrofit equipment, review of all the submittals documents, provide technical assistance during the construction phase, commission of the system\\nand measurement and verification of each measures. Siemens Building Technologies Pvt. Ltd., 49, Eldams Road, Teynampet, Chennai- 600 018,\\nIndia 42%¢ Worked on designing of systems, preparation of technical bids, quotations, offers of complete systems comprising of Building\\nManagement System, Fire Protection and Electronic Security 42¢ Pre-sales and front end sales activities including customer relationship building,\\nnegotiations. 4%¢ Grabbed IBMS orders of around $2 million. 42¢ Worked extensively on designing of Building Management systems for HVAC\\nfor different buildings like hotels, commercial buildings, IT/ITES etc.\\n\\nAssistant Manager-Energy Solutions\\n\\nJuly 2010 to May 2013 Company Name i'/ City , State\\n\\nSchneider Electric India Pvt. Ltd, 9th Floor, DLF Building No. 10, Tower C,\\n\\nEducation\\nBachelor of Instrumentation Engineering : Instrumentation Engineering , 2006-12-31 Maharishi Markendeshwar Engineering College Bachelor of\\nInstrumentation Engineering, -Degree Received: December 31, 2006 Maharishi Markendeshwar Engineering College, Mullana India. May\\n09,2002-July 21, 2006.\\n\\nAffiliations\\n\\nActively Involved in Networking Chapter in Boston area like National Association of Women In Construction, Mass Building Congress, American\\nSociety for Precision Engineering\\n\\nCertifications\\n\\nEnergy Management Professional Certified by Schneider University.\\n\\nSkills\\n\\nSales, Proposals, Solutions, Commercial Buildings, Million, Sales And, Contracts, Ecms, Energy Conservation, Energy Solutions, Industrial\\nFacilities, Retail, Retail Marketing, Retrofit, Technical Assistance, Instrumentation, Long-term Disability, Ltd, Engineer, Hvac, Collection,\\nMaintenance, Marketing, Networking, Project Engineer, Project Planning, Real Time, Scada, Testing, Estimating, Estimation, Estimator,\\nOperations, Pricing, Sales Team, Takeoffs, Fire Protection, Front End, Quotations, Relationship Building, Sales Activities, Sales Engineer,\\nSecurity, Siemens, Award, Clients, Csr, Energy Management, Project Development, Roi, Selling Of Sql\\n\""
      ]
     },
     "execution_count": 7,
     "metadata": {},
     "output_type": "execute_result"
    }
   ],
   "source": [
    "resume_path = 'C:/Clubs and Society/DevHack/DevHack/dataset/data/data/CONSTRUCTION/10041713.pdf'\n",
    "get_text(resume_path)"
   ]
  },
  {
   "cell_type": "markdown",
   "metadata": {},
   "source": [
    "### Extract Title and Skills"
   ]
  },
  {
   "cell_type": "code",
   "execution_count": 12,
   "metadata": {},
   "outputs": [],
   "source": [
    "nameExp = r\"^[\\w'\\-, .][^0-9_!¡?÷?¿/\\\\+=@#%^&*(){}|~<>;:[\\]]{2, }\"\n",
    "names = re.findall(nameExp, get_text(resume_path))"
   ]
  },
  {
   "cell_type": "code",
   "execution_count": 13,
   "metadata": {},
   "outputs": [],
   "source": [
    "for name in names:\n",
    "    print(name.strip())"
   ]
  }
 ],
 "metadata": {
  "kernelspec": {
   "display_name": "Python 3",
   "language": "python",
   "name": "python3"
  },
  "language_info": {
   "codemirror_mode": {
    "name": "ipython",
    "version": 3
   },
   "file_extension": ".py",
   "mimetype": "text/x-python",
   "name": "python",
   "nbconvert_exporter": "python",
   "pygments_lexer": "ipython3",
   "version": "3.10.6"
  }
 },
 "nbformat": 4,
 "nbformat_minor": 2
}
