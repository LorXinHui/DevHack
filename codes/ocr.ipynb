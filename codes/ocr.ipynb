{
 "cells": [
  {
   "cell_type": "code",
   "execution_count": 9,
   "metadata": {},
   "outputs": [],
   "source": [
    "import numpy as np\n",
    "import pandas as pd\n",
    "import fitz"
   ]
  },
  {
   "cell_type": "markdown",
   "metadata": {},
   "source": [
    "### Load Business Card using OpenCV and PIL"
   ]
  },
  {
   "cell_type": "code",
   "execution_count": null,
   "metadata": {},
   "outputs": [],
   "source": [
    "pdf_path = 'C:/Clubs and Society/DevHack/DevHack/dataset/data/data/INFORMATION-TECHNOLOGY/10089434.pdf'\n",
    "pdf_document = fitz.open(pdf_path)\n",
    "\n",
    "print(f\"Number of pages in the PDF: {pdf_document.page_count}\")\n",
    "\n",
    "# Iterate through all pages\n",
    "for page_number in range(pdf_document.page_count):\n",
    "    # Get the page\n",
    "    page = pdf_document[page_number]\n",
    "\n",
    "    # Get the text content of the page\n",
    "    text = page.get_text()\n",
    "\n",
    "    # Print or process the extracted text\n",
    "    print(f'Page {page_number + 1}:\\n{text}\\n{\"-\"*50}')\n",
    "\n",
    "# Close the PDF document\n",
    "pdf_document.close()"
   ]
  },
  {
   "cell_type": "code",
   "execution_count": 10,
   "metadata": {},
   "outputs": [],
   "source": [
    "def get_resume_text(resume_path):\n",
    "    pdf_document = fitz.open(resume_path)\n",
    "\n",
    "    print(f\"Number of pages in the PDF: {pdf_document.page_count}\")\n",
    "\n",
    "    # Iterate through all pages\n",
    "    for page_number in range(pdf_document.page_count):\n",
    "        # Get the page\n",
    "        page = pdf_document[page_number]\n",
    "\n",
    "        # Get the text content of the page\n",
    "        text = page.get_text()\n",
    "\n",
    "        # Print or process the extracted text\n",
    "        print(f'Page {page_number + 1}:\\n{text}\\n{\"-\"*50}')\n",
    "\n",
    "    # Close the PDF document\n",
    "    pdf_document.close()"
   ]
  },
  {
   "cell_type": "code",
   "execution_count": 11,
   "metadata": {},
   "outputs": [
    {
     "name": "stdout",
     "output_type": "stream",
     "text": [
      "Number of pages in the PDF: 2\n",
      "Page 1:\n",
      "LICENSED UNITED HEALTHCARE INSURANCE SALES AGENT\n",
      "Summary\n",
      "Talent for identifying customers' needs and referring appropriate company products and services while demonstrating the ability to gain customers'\n",
      "trust providing exceptional follow up, leading to increased sales and repeated referral of business Expertise in resolving escalated customer service\n",
      "issues quickly and effectively solving customers' challenges. Track record for assisting the Customer Service and Sales dept. in achieving its\n",
      "potential by using my implementing experience, increasing sales 13.46% above goal also interacting with all levels of management to improve\n",
      "customer and business satisfaction. Secured over 65 + Shared Success Awards; Received several Sales Agent of the month Awards; Awarded\n",
      "numerous prize/gifts, awards for consistently meeting/exceeding sales goals, successfully closed on all referred products and maintained weekly &\n",
      "monthly KDM & QA Scores of 100%.\n",
      "Skills\n",
      "Time Management, Effective Communication, Trouble Shooting, Problem Solving, Cloud technology, Skype, Proficient, Microsoft Office Suite,\n",
      "Instant Messaging, Web Chat, Negotiating, Up-sell, Cross-Sell Ability, Outlook Email, Lotus Notes, Quicken, QuickBooks.\n",
      "Experience\n",
      "Licensed United Healthcare Insurance Sales Agent Sep 2014 to Oct 2015 \n",
      "Company Name ï¼​ City , State\n",
      "Provided services to clients changing or updating healthcare insurance needs by upselling/cross selling a variety of health insurance products.\n",
      "MA, MAPD, MED Sup and PDP's to groups and individual consumers geared to fit their healthcare needs.\n",
      "Assists with outbound campaigns to ensure customer satisfaction.\n",
      "Demonstrates prospecting skills, meets or exceeds sales goals.\n",
      "Delivers exceptional customers service to consumers to develop and build new client relationships by implementing strong people skills and\n",
      "product knowledge while gaining customers trust and building rapport while following and adhering to hipaa guidelines and company policy.\n",
      "Account Executive Sales Agent/FedEx Account Mar 2014 to Sep 2014 \n",
      "Company Name ï¼​ City , State\n",
      "Responsibilities included maintaining and deepening existing customer relations.\n",
      "Made outbound telephone calls to engage customers with new products and services that would develop value propositions to meet their\n",
      "business needs also Increasing the volume from existing customers.\n",
      "Successfully delivered Client's family of services implementing well developed sales skills, collaboration, and effective negotiation.\n",
      "Conducted daily rapport building with customers using a consultative sales approach and while maintaining a regular contact with designated\n",
      "accounts through an established sales process requirement.\n",
      "Licensed United Healthcare Insurance Sales Agent Sep 2013 to Mar 2014 \n",
      "Company Name ï¼​ City , State\n",
      "Provided services to clients changing or updating healthcare insurance needs by upselling/cross selling a variety of health insurance products.\n",
      "MA, MAPD, MED Sup and PDP's to groups and individual consumers geared to fit their healthcare needs.\n",
      "Assists with outbound campaigns to ensure customer satisfaction.\n",
      "Demonstrates prospecting skills, meets or exceeds sales goals.\n",
      "Delivers exceptional customers service to consumers to develop and build new client relationships by implementing strong people skills and\n",
      "product knowledge also gaining customers trust and building rapport while following and adhering per hipaa guidelines and company policy.\n",
      "Customer Service Agent Apr 2013 to Sep 2013 \n",
      "Company Name ï¼​ City , State\n",
      "Functioned as a primary resource in handling pharmacy / pharmacist contacts via telephone ranging from routine to complex, regarding\n",
      "insurance authorization, benefits, claims, and general assistance.\n",
      "Duties performed related to the resolution of adjudicated prescription claims with regards to member eligibility, benefits parameters applied,\n",
      "determination of prior authorizations or overrides and exceptions in systems.\n",
      "Deliver exceptional customer and able to complete calls expeditiously and accurately with assurance/confidence, accuracy, and\n",
      "professionalism on every member/pharmacy/pharmacist interaction in a fast-paced call environment adhering all HIPAA and CMS\n",
      "compliance and regulations.\n",
      "Customer Service Task Specialist Jul 2006 to Aug 2008 \n",
      "Company Name ï¼​ City , State\n",
      "Made contact with Creditors & new and existing clients daily to open/update accounts; negotiated account terms for clients; added,\n",
      "updated and modified PIF creditors on client profiles.\n",
      "Collected processed and modified payments of ACH amounts & dates; educated and advised clients of new or counter proposals.\n",
      "Consistently demonstrated effective customer service meeting/exceeding quota goals of 200 inbound/outbound calls daily while collaborating\n",
      "with customer care depts.\n",
      "amp; manager to enhance customer service.\n",
      "Education and Training\n",
      "Completed various courses and seminars in customer service, call center simulations sales strategies, banking terminology in the teller role/ lockbox\n",
      "operations, goal-setting, public-speaking and computer skills: Banking and Customer Service Training Certificate. Wachovia Bank NA; -\n",
      "\n",
      "--------------------------------------------------\n",
      "Page 2:\n",
      "Charlotte, NC: Web/ IVR Certificate (2008) Central Piedmont Community College Charlotte, NC: Career Readiness Silver Certificate 2013\n",
      "Goodwill Career Development Center ï¼​ City , State\n",
      "Computer Office Information Systems Certificate 2001 Central Piedmont Community College ï¼​ City , State\n",
      "High School Equivalency Diploma 2001 Central Piedmont Community College ï¼​ City , State 3.75\n",
      "Skills\n",
      "approach, banking, benefits, call center, CMS, Client, clients, customer relations, customer satisfaction, customer service, Customer Service\n",
      "Training, customer care, PDP, Email, fast, goal-setting, Information Systems, insurance, IVR, Lotus Notes, MA, Messaging, Microsoft Office\n",
      "Suite, Office, Outlook, Negotiating, negotiation, people skills, Problem Solving, proposals, public-speaking, QuickBooks, Quicken, rapport,\n",
      "requirement, sales skills, selling, sales, seminars, telephone, Time Management, Trouble Shooting\n",
      "\n",
      "--------------------------------------------------\n"
     ]
    }
   ],
   "source": [
    "pdf_path = 'C:/Clubs and Society/DevHack/DevHack/dataset/data/data/HEALTHCARE/13352113.pdf'\n",
    "get_resume_text(pdf_path)"
   ]
  },
  {
   "cell_type": "code",
   "execution_count": null,
   "metadata": {},
   "outputs": [],
   "source": []
  }
 ],
 "metadata": {
  "kernelspec": {
   "display_name": "Python 3",
   "language": "python",
   "name": "python3"
  },
  "language_info": {
   "codemirror_mode": {
    "name": "ipython",
    "version": 3
   },
   "file_extension": ".py",
   "mimetype": "text/x-python",
   "name": "python",
   "nbconvert_exporter": "python",
   "pygments_lexer": "ipython3",
   "version": "3.10.6"
  }
 },
 "nbformat": 4,
 "nbformat_minor": 2
}
