{
 "cells": [
  {
   "cell_type": "code",
   "execution_count": 2,
   "metadata": {},
   "outputs": [],
   "source": [
    "import numpy as np\n",
    "import pandas as pd\n",
    "import fitz"
   ]
  },
  {
   "cell_type": "code",
   "execution_count": 15,
   "metadata": {},
   "outputs": [],
   "source": [
    "import re"
   ]
  },
  {
   "cell_type": "markdown",
   "metadata": {},
   "source": [
    "```\n",
    "pdf_path = 'C:/Clubs and Society/DevHack/DevHack/dataset/data/data/INFORMATION-TECHNOLOGY/10089434.pdf'\n",
    "pdf_document = fitz.open(pdf_path)\n",
    "\n",
    "print(f\"Number of pages in the PDF: {pdf_document.page_count}\")\n",
    "\n",
    "# Iterate through all pages\n",
    "for page_number in range(pdf_document.page_count):\n",
    "    # Get the page\n",
    "    page = pdf_document[page_number]\n",
    "\n",
    "    # Get the text content of the page\n",
    "    text = page.get_text()\n",
    "\n",
    "    # Print or process the extracted text\n",
    "    print(f'Page {page_number + 1}:\\n{text}\\n{\"-\"*50}')\n",
    "\n",
    "# Close the PDF document\n",
    "pdf_document.close()\n",
    "```"
   ]
  },
  {
   "cell_type": "code",
   "execution_count": 19,
   "metadata": {},
   "outputs": [],
   "source": [
    "def get_resume_text(resume_path):\n",
    "    pdf_document = fitz.open(resume_path)\n",
    "\n",
    "    #print(f\"Number of pages in the PDF: {pdf_document.page_count}\")\n",
    "    res = \"\"\n",
    "\n",
    "    # Iterate through all pages\n",
    "    for page_number in range(pdf_document.page_count):\n",
    "        # Get the page\n",
    "        page = pdf_document[page_number]\n",
    "\n",
    "        # Get the text content of the page\n",
    "        text = page.get_text()\n",
    "        res += text\n",
    "\n",
    "        # Print or process the extracted text\n",
    "        #print(f'{text}')\n",
    "\n",
    "    # Close the PDF document\n",
    "    pdf_document.close()\n",
    "    return res"
   ]
  },
  {
   "cell_type": "code",
   "execution_count": 27,
   "metadata": {},
   "outputs": [],
   "source": [
    "def extract_title_and_skills(resume_text):\n",
    "    # Extract title\n",
    "    title_pattern = re.compile(r\"(?i)(.*?)(?=\\bSummary\\b)\", re.DOTALL)\n",
    "    title_match = title_pattern.search(resume_text)\n",
    "    title = title_match.group(1).strip() if title_match else None\n",
    "\n",
    "    # Extract skills\n",
    "    skills_pattern = re.compile(r\"(?i)\\bSkills\\b.*?\\n(.*?)\\n\", re.DOTALL)\n",
    "    skills_match = skills_pattern.search(resume_text)\n",
    "    skills = skills_match.group(1).strip() if skills_match else None\n",
    "\n",
    "    return title, skills\n",
    "\n",
    "def get_resume_title_and_skills(resume_path):\n",
    "    resume_text = get_resume_text(resume_path)\n",
    "    title, skills = extract_title_and_skills(resume_text)\n",
    "    return title, skills"
   ]
  },
  {
   "cell_type": "markdown",
   "metadata": {},
   "source": [
    "```\n",
    "pdf_path = 'C:/Clubs and Society/DevHack/DevHack/dataset/data/data/HEALTHCARE/13352113.pdf'\n",
    "get_resume_text(pdf_path)\n",
    "```"
   ]
  },
  {
   "cell_type": "code",
   "execution_count": 30,
   "metadata": {},
   "outputs": [
    {
     "name": "stdout",
     "output_type": "stream",
     "text": [
      "Title: SR. ESTIMATOR-BAS CONSTRUCTION SALES\n",
      "Skills: Sales, Proposals, Solutions, Commercial Buildings, Million, Sales And, Contracts, Ecms, Energy Conservation, Energy Solutions, Industrial\n"
     ]
    }
   ],
   "source": [
    "pdf_path = 'C:/Clubs and Society/DevHack/DevHack/dataset/data/data/CONSTRUCTION/10041713.pdf'\n",
    "title, skills = get_resume_title_and_skills(pdf_path)\n",
    "print(f\"Title: {title}\")\n",
    "print(f\"Skills: {skills}\")"
   ]
  },
  {
   "cell_type": "code",
   "execution_count": 22,
   "metadata": {},
   "outputs": [
    {
     "data": {
      "text/plain": [
       "\"LICENSED UNITED HEALTHCARE INSURANCE SALES AGENT\\nSummary\\nTalent for identifying customers' needs and referring appropriate company products and services while demonstrating the ability to gain customers'\\ntrust providing exceptional follow up, leading to increased sales and repeated referral of business Expertise in resolving escalated customer service\\nissues quickly and effectively solving customers' challenges. Track record for assisting the Customer Service and Sales dept. in achieving its\\npotential by using my implementing experience, increasing sales 13.46% above goal also interacting with all levels of management to improve\\ncustomer and business satisfaction. Secured over 65 + Shared Success Awards; Received several Sales Agent of the month Awards; Awarded\\nnumerous prize/gifts, awards for consistently meeting/exceeding sales goals, successfully closed on all referred products and maintained weekly &\\nmonthly KDM & QA Scores of 100%.\\nSkills\\nTime Management, Effective Communication, Trouble Shooting, Problem Solving, Cloud technology, Skype, Proficient, Microsoft Office Suite,\\nInstant Messaging, Web Chat, Negotiating, Up-sell, Cross-Sell Ability, Outlook Email, Lotus Notes, Quicken, QuickBooks.\\nExperience\\nLicensed United Healthcare Insurance Sales Agent Sep 2014 to Oct 2015 \\nCompany Name ï¼\\u200b City , State\\nProvided services to clients changing or updating healthcare insurance needs by upselling/cross selling a variety of health insurance products.\\nMA, MAPD, MED Sup and PDP's to groups and individual consumers geared to fit their healthcare needs.\\nAssists with outbound campaigns to ensure customer satisfaction.\\nDemonstrates prospecting skills, meets or exceeds sales goals.\\nDelivers exceptional customers service to consumers to develop and build new client relationships by implementing strong people skills and\\nproduct knowledge while gaining customers trust and building rapport while following and adhering to hipaa guidelines and company policy.\\nAccount Executive Sales Agent/FedEx Account Mar 2014 to Sep 2014 \\nCompany Name ï¼\\u200b City , State\\nResponsibilities included maintaining and deepening existing customer relations.\\nMade outbound telephone calls to engage customers with new products and services that would develop value propositions to meet their\\nbusiness needs also Increasing the volume from existing customers.\\nSuccessfully delivered Client's family of services implementing well developed sales skills, collaboration, and effective negotiation.\\nConducted daily rapport building with customers using a consultative sales approach and while maintaining a regular contact with designated\\naccounts through an established sales process requirement.\\nLicensed United Healthcare Insurance Sales Agent Sep 2013 to Mar 2014 \\nCompany Name ï¼\\u200b City , State\\nProvided services to clients changing or updating healthcare insurance needs by upselling/cross selling a variety of health insurance products.\\nMA, MAPD, MED Sup and PDP's to groups and individual consumers geared to fit their healthcare needs.\\nAssists with outbound campaigns to ensure customer satisfaction.\\nDemonstrates prospecting skills, meets or exceeds sales goals.\\nDelivers exceptional customers service to consumers to develop and build new client relationships by implementing strong people skills and\\nproduct knowledge also gaining customers trust and building rapport while following and adhering per hipaa guidelines and company policy.\\nCustomer Service Agent Apr 2013 to Sep 2013 \\nCompany Name ï¼\\u200b City , State\\nFunctioned as a primary resource in handling pharmacy / pharmacist contacts via telephone ranging from routine to complex, regarding\\ninsurance authorization, benefits, claims, and general assistance.\\nDuties performed related to the resolution of adjudicated prescription claims with regards to member eligibility, benefits parameters applied,\\ndetermination of prior authorizations or overrides and exceptions in systems.\\nDeliver exceptional customer and able to complete calls expeditiously and accurately with assurance/confidence, accuracy, and\\nprofessionalism on every member/pharmacy/pharmacist interaction in a fast-paced call environment adhering all HIPAA and CMS\\ncompliance and regulations.\\nCustomer Service Task Specialist Jul 2006 to Aug 2008 \\nCompany Name ï¼\\u200b City , State\\nMade contact with Creditors & new and existing clients daily to open/update accounts; negotiated account terms for clients; added,\\nupdated and modified PIF creditors on client profiles.\\nCollected processed and modified payments of ACH amounts & dates; educated and advised clients of new or counter proposals.\\nConsistently demonstrated effective customer service meeting/exceeding quota goals of 200 inbound/outbound calls daily while collaborating\\nwith customer care depts.\\namp; manager to enhance customer service.\\nEducation and Training\\nCompleted various courses and seminars in customer service, call center simulations sales strategies, banking terminology in the teller role/ lockbox\\noperations, goal-setting, public-speaking and computer skills: Banking and Customer Service Training Certificate. Wachovia Bank NA; -\\nCharlotte, NC: Web/ IVR Certificate (2008) Central Piedmont Community College Charlotte, NC: Career Readiness Silver Certificate 2013\\nGoodwill Career Development Center ï¼\\u200b City , State\\nComputer Office Information Systems Certificate 2001 Central Piedmont Community College ï¼\\u200b City , State\\nHigh School Equivalency Diploma 2001 Central Piedmont Community College ï¼\\u200b City , State 3.75\\nSkills\\napproach, banking, benefits, call center, CMS, Client, clients, customer relations, customer satisfaction, customer service, Customer Service\\nTraining, customer care, PDP, Email, fast, goal-setting, Information Systems, insurance, IVR, Lotus Notes, MA, Messaging, Microsoft Office\\nSuite, Office, Outlook, Negotiating, negotiation, people skills, Problem Solving, proposals, public-speaking, QuickBooks, Quicken, rapport,\\nrequirement, sales skills, selling, sales, seminars, telephone, Time Management, Trouble Shooting\\n\""
      ]
     },
     "execution_count": 22,
     "metadata": {},
     "output_type": "execute_result"
    }
   ],
   "source": [
    "get_resume_text(pdf_path)"
   ]
  },
  {
   "cell_type": "code",
   "execution_count": null,
   "metadata": {},
   "outputs": [],
   "source": []
  }
 ],
 "metadata": {
  "kernelspec": {
   "display_name": "Python 3",
   "language": "python",
   "name": "python3"
  },
  "language_info": {
   "codemirror_mode": {
    "name": "ipython",
    "version": 3
   },
   "file_extension": ".py",
   "mimetype": "text/x-python",
   "name": "python",
   "nbconvert_exporter": "python",
   "pygments_lexer": "ipython3",
   "version": "3.10.6"
  }
 },
 "nbformat": 4,
 "nbformat_minor": 2
}
