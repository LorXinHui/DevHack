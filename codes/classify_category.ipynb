{
 "cells": [
  {
   "cell_type": "code",
   "execution_count": null,
   "metadata": {},
   "outputs": [],
   "source": [
    "import tensorflow as tf\n",
    "import pandas as pd\n",
    "import numpy as np\n",
    "from transformers import BertTokenizer\n",
    "from torch.utils.data import DataLoader, TensorDataset\n",
    "import torch"
   ]
  },
  {
   "cell_type": "code",
   "execution_count": null,
   "metadata": {},
   "outputs": [],
   "source": [
    "import re"
   ]
  },
  {
   "cell_type": "markdown",
   "metadata": {},
   "source": [
    "## Download and Preprocess dataset"
   ]
  },
  {
   "cell_type": "code",
   "execution_count": null,
   "metadata": {},
   "outputs": [],
   "source": [
    "df = pd.read_csv(\"C:/Clubs and Society/DevHack/DevHack/dataset/Resume/Resume.csv\")\n",
    "df = df[['Resume_str', 'Category']]\n",
    "df.head(5)"
   ]
  },
  {
   "cell_type": "code",
   "execution_count": null,
   "metadata": {},
   "outputs": [],
   "source": [
    "def extract_title_and_skills(resume_text):\n",
    "    res = \"\"\n",
    "    # Extract title\n",
    "    title_pattern = re.compile(r\"(?i)(.*?)(?=\\bSummary\\b)\", re.DOTALL)\n",
    "    title_match = title_pattern.search(resume_text)\n",
    "    title = title_match.group(1).strip() if title_match else None\n",
    "    res += title + \"\\n\"\n",
    "\n",
    "    # Extract skills\n",
    "    skills_pattern = re.compile(r\"(?i)\\bSkills\\b.*?\\n(.*?)\\n\", re.DOTALL)\n",
    "    skills_match = skills_pattern.search(resume_text)\n",
    "    skills = skills_match.group(1).strip() if skills_match else None\n",
    "    res += skills\n",
    "\n",
    "    return res"
   ]
  },
  {
   "cell_type": "code",
   "execution_count": null,
   "metadata": {},
   "outputs": [],
   "source": [
    "df['title_skills'] = df['Resume_str'].apply(extract_title_and_skills)\n",
    "df = df[['title_skills', 'Category']]\n",
    "df.head(5)"
   ]
  },
  {
   "cell_type": "code",
   "execution_count": null,
   "metadata": {},
   "outputs": [],
   "source": [
    "#Convert data to a DataFrame\n",
    "df = pd.DataFrame(df)\n",
    "\n",
    "#Load BERT tokenizer\n",
    "tokenizer = BertTokenizer.from_pretrained('bert-base-uncased', do_lower_case = True)\n",
    "\n",
    "# Tokenize and preprocess the data\n",
    "def preprocess_text(text, max_len=512):\n",
    "    tokens = tokenizer.encode_plus(\n",
    "        text,\n",
    "        add_special_tokens=True,\n",
    "        max_length=max_len,\n",
    "        padding=\"max_length\",\n",
    "        return_attention_mask=True,\n",
    "        return_tensors=\"pt\"\n",
    "    )\n",
    "    return tokens\n",
    "\n",
    "# Apply the preprocessing function to the 'Resume_str' column\n",
    "df['tokens'] = df['Resume_str'].apply(preprocess_text)\n",
    "\n",
    "# Create input tensors\n",
    "input_ids = torch.cat([tensor['input_ids'] for tensor in df['tokens']], dim=0)\n",
    "attention_masks = torch.cat([tensor['attention_mask'] for tensor in df['tokens']], dim=0)\n",
    "\n",
    "# Create labels tensor\n",
    "labels = torch.tensor(df['Category'].astype('category').cat.codes.values)\n",
    "\n",
    "# Create a PyTorch DataLoader\n",
    "dataset = TensorDataset(input_ids, attention_masks, labels)\n",
    "dataloader = DataLoader(dataset, batch_size=2, shuffle=True)\n"
   ]
  }
 ],
 "metadata": {
  "kernelspec": {
   "display_name": "Python 3",
   "language": "python",
   "name": "python3"
  },
  "language_info": {
   "codemirror_mode": {
    "name": "ipython",
    "version": 3
   },
   "file_extension": ".py",
   "mimetype": "text/x-python",
   "name": "python",
   "nbconvert_exporter": "python",
   "pygments_lexer": "ipython3",
   "version": "3.10.6"
  }
 },
 "nbformat": 4,
 "nbformat_minor": 2
}
